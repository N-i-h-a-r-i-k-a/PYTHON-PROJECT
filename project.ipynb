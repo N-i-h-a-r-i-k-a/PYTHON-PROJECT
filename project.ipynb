{
 "cells": [
  {
   "cell_type": "code",
   "execution_count": 5,
   "id": "18e61329-6bad-4c8b-94d2-e7b7686a1ad1",
   "metadata": {},
   "outputs": [
    {
     "name": "stdout",
     "output_type": "stream",
     "text": [
      "hello welocome to book my movie application\n"
     ]
    }
   ],
   "source": [
    "print(\"hello welocome to book my movie application\")"
   ]
  },
  {
   "cell_type": "code",
   "execution_count": 6,
   "id": "6d513d61-60d8-4e10-a2cb-b83c2f8290c3",
   "metadata": {},
   "outputs": [],
   "source": [
    "def city():\n",
    "    print(\"please select your city 1.vishakapatanam \\n 2.hyderabad \\n 3.mumbai \\n 4. kerala\")\n",
    "    c=int(input())\n",
    "    if c==1:\n",
    "        print(\"you have selected vishakapatanam\")\n",
    "    elif c==2:\n",
    "        print(\"you have selected hyderabad\")\n",
    "    elif c==3:\n",
    "        print(\"you have selected mumbai\")\n",
    "    elif c==4:\n",
    "        print(\"you have selected kerala\")\n",
    "    else:\n",
    "        print(\"please select a valid place\")\n",
    "        city()\n",
    "    movie()"
   ]
  },
  {
   "cell_type": "code",
   "execution_count": 7,
   "id": "5494d41a-c390-407f-8b22-11bb11d35486",
   "metadata": {},
   "outputs": [],
   "source": [
    "def movie():\n",
    "    print(\"please select which movie do you want to watch 1.Bahuballi \\n 2. Amaran \\n 3.mufasa \\n 4.lionking\")\n",
    "    m=int(input())\n",
    "    if m==1:\n",
    "        print(\"you have selected bahuballi\")\n",
    "    elif m==2:\n",
    "        print(\"you have selected amaran\")\n",
    "    elif m==3:\n",
    "        print(\"you have selected mufasa\")\n",
    "    elif m==4:\n",
    "        print(\"you have selected lion king\")\n",
    "        city()\n",
    "    else:\n",
    "        print(\"please select any of the option\")\n",
    "        movie()\n",
    "    theatre()\n",
    "        \n",
    "        \n",
    "    "
   ]
  },
  {
   "cell_type": "code",
   "execution_count": 8,
   "id": "735aa0c3-252d-492b-8c2f-4714ff16901d",
   "metadata": {},
   "outputs": [],
   "source": [
    "def theatre():\n",
    "    print(\"please select the theater you want to watch the movie 1.cmr central \\n 2.imax \\n  3.relaxed \\n 4.back\")\n",
    "    t=int(input())\n",
    "    if t==1:\n",
    "        print(\"you have selected cmr\")\n",
    "    elif t==2:\n",
    "        print(\"you have selected imax\")\n",
    "    elif t==3:\n",
    "        print(\"you have selected relaxed\")\n",
    "    elif t==4:\n",
    "        print(\"you have selected back\")\n",
    "        movie()\n",
    "    else:\n",
    "        print(\"please select the valid place\")\n",
    "        theatre()\n",
    "    screen()\n",
    "    \n"
   ]
  },
  {
   "cell_type": "code",
   "execution_count": 9,
   "id": "5aefd5e9-8e2b-4705-8dbc-994fb5378adb",
   "metadata": {},
   "outputs": [],
   "source": [
    "def screen():\n",
    "    print(\"in which screen do you want to watch 1.screen 1 \\n 2.screen 2 \\n 3.screen 3\")\n",
    "    s=int(input(\"select screen\"))\n",
    "    if s==1:\n",
    "        print(\"you have selected screen 1\")\n",
    "    elif s==2:\n",
    "        print(\"you have selected screen 2\")\n",
    "    elif s==3:\n",
    "        print(\"you have selected screen 3\")\n",
    "    elif s==4:\n",
    "        theatre()\n",
    "    else:\n",
    "        print(\"selecr a valid screen\")\n",
    "        screen()\n",
    "    timing(s)"
   ]
  },
  {
   "cell_type": "code",
   "execution_count": 10,
   "id": "52251e07-c2fd-4d19-a3f6-b560792a08d4",
   "metadata": {},
   "outputs": [],
   "source": [
    "def timing(s):\n",
    "    slot1={\"1\" :\"9:00-12:00\",\"2\" :\"1:00-3:00\",\"3\" :\"6:00-9:00\"}\n",
    "    slot2={\"1\" :\"9:05-12:10\",\"2\" :\"1:10-3:20\",\"3\" :\"6:50-10:30\"}\n",
    "    slot3={\"1\" :\"10:00-1:00\",\"2\" :\"2:00-4:00\",\"3\" :\"7:00-11:00\"}\n",
    "    if s==1:\n",
    "        print(\"please select the timmings\")\n",
    "        time=input()\n",
    "        print(\"selected time is\",slot1[time])\n",
    "    elif s==2:\n",
    "         print(\"please select the timmings\")\n",
    "         time=input()\n",
    "         print(\"selected time is\",slot2[time])\n",
    "    elif s==3:\n",
    "         print(\"please select the timmings\")\n",
    "         time=input()\n",
    "         print(\"selected time is\",slot3[time])\n",
    "    else:\n",
    "        print(\"please enter a valid option\")\n",
    "        screen()\n",
    "        timing(s)\n",
    "        \n"
   ]
  },
  {
   "cell_type": "code",
   "execution_count": 11,
   "id": "73368fe5-8151-470d-a817-840a13d2b4c2",
   "metadata": {},
   "outputs": [
    {
     "name": "stdout",
     "output_type": "stream",
     "text": [
      "please select your city 1.vishakapatanam \n",
      " 2.hyderabad \n",
      " 3.mumbai \n",
      " 4. kerala\n"
     ]
    },
    {
     "name": "stdin",
     "output_type": "stream",
     "text": [
      " 1\n"
     ]
    },
    {
     "name": "stdout",
     "output_type": "stream",
     "text": [
      "you have selected vishakapatanam\n",
      "please select which movie do you want to watch 1.Bahuballi \n",
      " 2. Amaran \n",
      " 3.mufasa \n",
      " 4.lionking\n"
     ]
    },
    {
     "name": "stdin",
     "output_type": "stream",
     "text": [
      " 2\n"
     ]
    },
    {
     "name": "stdout",
     "output_type": "stream",
     "text": [
      "you have selected amaran\n",
      "please select the theater you want to watch the movie 1.cmr central \n",
      " 2.imax \n",
      "  3.relaxed \n",
      " 4.back\n"
     ]
    },
    {
     "name": "stdin",
     "output_type": "stream",
     "text": [
      " 2\n"
     ]
    },
    {
     "name": "stdout",
     "output_type": "stream",
     "text": [
      "you have selected imax\n",
      "in which screen do you want to watch 1.screen 1 \n",
      " 2.screen 2 \n",
      " 3.screen 3\n"
     ]
    },
    {
     "name": "stdin",
     "output_type": "stream",
     "text": [
      "select screen 2\n"
     ]
    },
    {
     "name": "stdout",
     "output_type": "stream",
     "text": [
      "you have selected screen 2\n",
      "please select the timmings\n"
     ]
    },
    {
     "name": "stdin",
     "output_type": "stream",
     "text": [
      " 2\n"
     ]
    },
    {
     "name": "stdout",
     "output_type": "stream",
     "text": [
      "selected time is 1:10-3:20\n"
     ]
    }
   ],
   "source": [
    "city()"
   ]
  },
  {
   "cell_type": "code",
   "execution_count": null,
   "id": "467a4c63-b963-4d64-a1f7-1c8a76d56669",
   "metadata": {},
   "outputs": [],
   "source": []
  },
  {
   "cell_type": "code",
   "execution_count": null,
   "id": "ec451612-5d14-4fa3-a797-7f730458d833",
   "metadata": {},
   "outputs": [],
   "source": []
  },
  {
   "cell_type": "code",
   "execution_count": null,
   "id": "4dca17c2-b0ae-4d88-8bb1-a41210951ee1",
   "metadata": {},
   "outputs": [],
   "source": []
  },
  {
   "cell_type": "code",
   "execution_count": null,
   "id": "488f2873-3f93-4fe7-987a-ad2d2b8701b8",
   "metadata": {},
   "outputs": [],
   "source": []
  },
  {
   "cell_type": "code",
   "execution_count": null,
   "id": "38a62b65-638f-4868-a631-d308e5032ef0",
   "metadata": {},
   "outputs": [],
   "source": []
  },
  {
   "cell_type": "code",
   "execution_count": null,
   "id": "13a9e592-bdcd-4545-8a47-0cc78224b57e",
   "metadata": {},
   "outputs": [],
   "source": []
  },
  {
   "cell_type": "code",
   "execution_count": null,
   "id": "c6007f8b-86d8-4560-893e-cc7db6cc033d",
   "metadata": {},
   "outputs": [],
   "source": []
  },
  {
   "cell_type": "code",
   "execution_count": null,
   "id": "cb291edd-1378-4506-8f74-75771a6d011b",
   "metadata": {},
   "outputs": [],
   "source": []
  },
  {
   "cell_type": "code",
   "execution_count": null,
   "id": "ec011800-555f-4909-87d1-c410f07629d3",
   "metadata": {},
   "outputs": [],
   "source": []
  },
  {
   "cell_type": "code",
   "execution_count": null,
   "id": "26dd34b8-943e-4818-add5-8678cd2cffeb",
   "metadata": {},
   "outputs": [],
   "source": []
  },
  {
   "cell_type": "code",
   "execution_count": null,
   "id": "1b716e5a-fa33-4ad5-b55e-761db4d80907",
   "metadata": {},
   "outputs": [],
   "source": []
  },
  {
   "cell_type": "raw",
   "id": "07be3b2b-9821-49c8-95d4-406b3af6d5e6",
   "metadata": {},
   "source": []
  }
 ],
 "metadata": {
  "kernelspec": {
   "display_name": "Python 3 (ipykernel)",
   "language": "python",
   "name": "python3"
  },
  "language_info": {
   "codemirror_mode": {
    "name": "ipython",
    "version": 3
   },
   "file_extension": ".py",
   "mimetype": "text/x-python",
   "name": "python",
   "nbconvert_exporter": "python",
   "pygments_lexer": "ipython3",
   "version": "3.12.7"
  }
 },
 "nbformat": 4,
 "nbformat_minor": 5
}
